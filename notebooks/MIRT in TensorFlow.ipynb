{
 "cells": [
  {
   "cell_type": "code",
   "execution_count": 1,
   "metadata": {
    "collapsed": true
   },
   "outputs": [],
   "source": [
    "import tensorflow as tf"
   ]
  },
  {
   "cell_type": "code",
   "execution_count": 2,
   "metadata": {
    "collapsed": true
   },
   "outputs": [],
   "source": [
    "import os\n",
    "os.chdir('..')  # Run this only once"
   ]
  },
  {
   "cell_type": "code",
   "execution_count": 67,
   "metadata": {},
   "outputs": [
    {
     "name": "stdout",
     "output_type": "stream",
     "text": [
      "prefix is now tmp/0-0\n"
     ]
    }
   ],
   "source": [
    "from my_io import Dataset\n",
    "dataset = Dataset('fraction')"
   ]
  },
  {
   "cell_type": "code",
   "execution_count": 4,
   "metadata": {
    "collapsed": true
   },
   "outputs": [],
   "source": [
    "X = tf.constant(np.array(dataset.data).astype(np.float32))"
   ]
  },
  {
   "cell_type": "code",
   "execution_count": 95,
   "metadata": {
    "collapsed": true
   },
   "outputs": [],
   "source": [
    "N = len(dataset.data)\n",
    "R = 8\n",
    "M = len(dataset.data[0])"
   ]
  },
  {
   "cell_type": "code",
   "execution_count": 96,
   "metadata": {
    "collapsed": true
   },
   "outputs": [],
   "source": [
    "import random\n",
    "mask = [[random.random() < 0.9 for _ in range(M)] for _ in range(N)]"
   ]
  },
  {
   "cell_type": "code",
   "execution_count": 97,
   "metadata": {
    "collapsed": true
   },
   "outputs": [],
   "source": [
    "tf_mask = tf.constant(mask, dtype=tf.float32)"
   ]
  },
  {
   "cell_type": "code",
   "execution_count": 98,
   "metadata": {
    "collapsed": true
   },
   "outputs": [],
   "source": [
    "U = tf.Variable(tf.random_normal([N, R]), name='U')\n",
    "V = tf.Variable(tf.random_normal([R, M]), name='V')\n",
    "bias = tf.Variable(tf.random_normal([M]), name='bias')"
   ]
  },
  {
   "cell_type": "code",
   "execution_count": 170,
   "metadata": {
    "collapsed": true
   },
   "outputs": [],
   "source": [
    "X_est = tf.add(tf.matmul(U, tf.abs(V)), bias)\n",
    "train_negative_log_likelihood = tf.reduce_sum(tf.multiply(tf_mask, tf.nn.sigmoid_cross_entropy_with_logits(labels=X, logits=X_est)))\n",
    "test_negative_log_likelihood = tf.reduce_sum(tf.multiply(1 - tf_mask, tf.nn.sigmoid_cross_entropy_with_logits(labels=X, logits=X_est)))\n",
    "loss = train_negative_log_likelihood + 0.1 * tf.reduce_sum(tf.square(U)) + 10 * tf.reduce_sum(tf.abs(V)) + 0.1 * tf.reduce_sum(tf.square(bias))"
   ]
  },
  {
   "cell_type": "code",
   "execution_count": 171,
   "metadata": {
    "collapsed": true
   },
   "outputs": [],
   "source": [
    "optimizer = tf.train.AdamOptimizer(0.01)\n",
    "train_step = optimizer.minimize(loss, var_list=[U, V, bias])\n",
    "#train_V_step = optimizer.minimize(negative_log_likelihood, var_list=[V])"
   ]
  },
  {
   "cell_type": "code",
   "execution_count": 172,
   "metadata": {
    "collapsed": true
   },
   "outputs": [],
   "source": [
    "init_op = tf.global_variables_initializer()"
   ]
  },
  {
   "cell_type": "code",
   "execution_count": 173,
   "metadata": {
    "collapsed": true
   },
   "outputs": [],
   "source": [
    "sess = tf.InteractiveSession()\n",
    "sess.run(init_op)"
   ]
  },
  {
   "cell_type": "code",
   "execution_count": 174,
   "metadata": {},
   "outputs": [
    {
     "name": "stdout",
     "output_type": "stream",
     "text": [
      "0 1438.86\n",
      "5 1284.11\n",
      "10 1158.28\n",
      "15 1056.25\n",
      "20 972.484\n",
      "25 902.743\n",
      "30 843.999\n",
      "35 793.907\n",
      "40 750.765\n",
      "45 713.294\n",
      "50 680.562\n",
      "55 651.94\n",
      "60 626.988\n",
      "65 605.349\n",
      "70 586.698\n",
      "75 570.715\n",
      "80 557.076\n",
      "85 545.462\n",
      "90 535.574\n",
      "95 527.044\n"
     ]
    }
   ],
   "source": [
    "for i in range(100):\n",
    "    sess.run(train_step)\n",
    "#    sess.run(train_V_step)\n",
    "    if i % 5 == 0:\n",
    "        print(i, sess.run(test_negative_log_likelihood))"
   ]
  },
  {
   "cell_type": "markdown",
   "metadata": {},
   "source": [
    "La bonne nouvelle, c'est qu'on obtient une log-likelihood de -3606 en 20 itérations alors que je viens de check, le package R converge au bout de 210 itérations vers une log-likelihood de -4454."
   ]
  },
  {
   "cell_type": "markdown",
   "metadata": {},
   "source": [
    "Reste à savoir si ça généralise bien. (Le package R lui suppose un prior bayésien sur les compétences des gens.)"
   ]
  },
  {
   "cell_type": "code",
   "execution_count": 175,
   "metadata": {},
   "outputs": [
    {
     "data": {
      "text/plain": [
       "array([[  1.22678399e+00,   3.18735242e-01,   5.84169388e-01,\n",
       "          6.15280926e-01,   8.72528493e-01,   4.21755701e-01,\n",
       "          6.50577962e-01,   7.08126903e-01],\n",
       "       [  1.04894519e+00,   4.76301759e-01,   8.70995700e-01,\n",
       "          7.29382455e-01,   7.97418833e-01,   4.61259931e-01,\n",
       "          4.77243543e-01,   6.75637424e-01],\n",
       "       [  9.48334694e-01,   5.89395046e-01,   8.72558355e-01,\n",
       "          4.55892026e-01,   7.92374969e-01,   4.21434075e-01,\n",
       "          5.55222154e-01,   9.74047244e-01],\n",
       "       [  9.28602576e-01,   7.21054256e-01,   4.05707490e-03,\n",
       "          5.11832237e-01,   2.83757657e-01,   7.08328485e-01,\n",
       "          9.57066953e-01,   1.63759202e-01],\n",
       "       [  6.33519769e-01,   3.16899978e-02,   1.52041376e-01,\n",
       "          3.84081155e-01,   3.71191770e-01,   3.82133245e-01,\n",
       "          2.06009373e-01,   4.57519382e-01],\n",
       "       [  6.23870075e-01,   4.61778998e-01,   6.07828200e-01,\n",
       "          2.79283226e-01,   3.71352792e-01,   1.11932963e-01,\n",
       "          1.55556574e-01,   4.84479278e-01],\n",
       "       [  5.99030852e-01,   4.54147786e-01,   3.17785561e-01,\n",
       "          4.00164306e-01,   6.42267346e-01,   6.09512568e-01,\n",
       "          5.92774093e-01,   5.59717238e-01],\n",
       "       [  7.88773894e-01,   7.01173067e-01,   4.48095888e-01,\n",
       "          4.14451882e-02,   3.71167451e-01,   1.10632360e+00,\n",
       "          2.94812471e-01,   2.59129345e-01],\n",
       "       [  3.81654531e-01,   6.96989754e-03,   6.49566472e-01,\n",
       "          1.47198841e-01,   1.19132197e+00,   1.27957404e-01,\n",
       "          7.67724682e-03,   5.05280852e-01],\n",
       "       [  1.17418337e+00,   9.08870041e-01,   3.21056724e-01,\n",
       "          5.03215373e-01,   3.19869459e-01,   4.96247113e-01,\n",
       "          6.62771583e-01,   6.69480145e-01],\n",
       "       [  1.01405609e+00,   9.63316500e-01,   6.08821988e-01,\n",
       "          1.96665454e+00,   6.59742653e-01,   6.54357016e-01,\n",
       "          1.15164280e+00,   5.01300216e-01],\n",
       "       [  4.82674569e-01,   5.87897599e-01,   5.47560096e-01,\n",
       "          1.54117331e-01,   2.69749045e-01,   3.12884778e-01,\n",
       "          4.19186294e-01,   6.00150943e-01],\n",
       "       [  1.06451368e+00,   6.14227355e-01,   1.91313622e-03,\n",
       "          5.32367468e-01,   3.96294326e-01,   7.24177361e-01,\n",
       "          5.69902182e-01,   2.06252918e-01],\n",
       "       [  1.64616120e+00,   6.43078983e-01,   5.99048555e-01,\n",
       "          1.26319334e-01,   8.05913508e-01,   4.25146908e-01,\n",
       "          6.82306409e-01,   9.48369563e-01],\n",
       "       [  6.04451060e-01,   5.15989661e-01,   5.41328907e-01,\n",
       "          3.93972784e-01,   4.39392418e-01,   5.33024967e-01,\n",
       "          5.87588727e-01,   7.80583799e-01],\n",
       "       [  5.96211493e-01,   5.24195731e-01,   3.71160924e-01,\n",
       "          2.56789625e-01,   2.98870414e-01,   3.98051113e-01,\n",
       "          1.22769967e-01,   5.09061396e-01],\n",
       "       [  1.10107720e+00,   9.50143814e-01,   3.22425306e-01,\n",
       "          7.06273258e-01,   3.88998419e-01,   3.19675475e-01,\n",
       "          1.08812785e+00,   1.42436671e+00],\n",
       "       [  8.83286893e-01,   4.92592782e-01,   3.08078080e-01,\n",
       "          6.87518835e-01,   7.61014283e-01,   9.13512886e-01,\n",
       "          4.57170039e-01,   7.28084862e-01],\n",
       "       [  4.91009146e-01,   2.57176995e-01,   4.63057011e-02,\n",
       "          4.48196262e-01,   2.04241410e-01,   3.82853359e-01,\n",
       "          5.99907577e-01,   4.35516179e-01],\n",
       "       [  7.17139363e-01,   7.79092252e-01,   5.84808290e-01,\n",
       "          1.00686574e+00,   3.52684647e-01,   6.42574072e-01,\n",
       "          5.43962359e-01,   6.59316897e-01]], dtype=float32)"
      ]
     },
     "execution_count": 175,
     "metadata": {},
     "output_type": "execute_result"
    }
   ],
   "source": [
    "sess.run(tf.transpose(tf.abs(V)))"
   ]
  },
  {
   "cell_type": "code",
   "execution_count": null,
   "metadata": {
    "collapsed": true
   },
   "outputs": [],
   "source": []
  }
 ],
 "metadata": {
  "kernelspec": {
   "display_name": "Python 3",
   "language": "python",
   "name": "python3"
  },
  "language_info": {
   "codemirror_mode": {
    "name": "ipython",
    "version": 3
   },
   "file_extension": ".py",
   "mimetype": "text/x-python",
   "name": "python",
   "nbconvert_exporter": "python",
   "pygments_lexer": "ipython3",
   "version": "3.6.1"
  }
 },
 "nbformat": 4,
 "nbformat_minor": 2
}
