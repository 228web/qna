{
 "cells": [
  {
   "cell_type": "code",
   "execution_count": 1,
   "metadata": {},
   "outputs": [],
   "source": [
    "import tensorflow as tf"
   ]
  },
  {
   "cell_type": "code",
   "execution_count": 2,
   "metadata": {
    "collapsed": true
   },
   "outputs": [],
   "source": [
    "import os\n",
    "os.chdir('..')  # Run this only once"
   ]
  },
  {
   "cell_type": "code",
   "execution_count": 3,
   "metadata": {},
   "outputs": [
    {
     "name": "stdout",
     "output_type": "stream",
     "text": [
      "prefix is now tmp/0-0\n"
     ]
    }
   ],
   "source": [
    "from my_io import Dataset\n",
    "dataset = Dataset('fraction')"
   ]
  },
  {
   "cell_type": "code",
   "execution_count": 4,
   "metadata": {},
   "outputs": [],
   "source": [
    "X = tf.constant(np.array(dataset.data).astype(np.float32))"
   ]
  },
  {
   "cell_type": "code",
   "execution_count": 49,
   "metadata": {},
   "outputs": [],
   "source": [
    "N = len(dataset.data)\n",
    "R = 2\n",
    "M = len(dataset.data[0])"
   ]
  },
  {
   "cell_type": "code",
   "execution_count": 50,
   "metadata": {},
   "outputs": [],
   "source": [
    "U = tf.Variable(tf.random_normal([N, R]), name='U')\n",
    "V = tf.Variable(tf.random_normal([R, M]), name='V')\n",
    "bias = tf.Variable(tf.random_normal([M]), name='bias')"
   ]
  },
  {
   "cell_type": "code",
   "execution_count": 51,
   "metadata": {},
   "outputs": [],
   "source": [
    "X_est = tf.add(tf.matmul(U, V), bias)\n",
    "negative_log_likelihood = tf.reduce_sum(tf.nn.sigmoid_cross_entropy_with_logits(labels=X, logits=X_est))"
   ]
  },
  {
   "cell_type": "code",
   "execution_count": 52,
   "metadata": {
    "collapsed": true
   },
   "outputs": [],
   "source": [
    "optimizer = tf.train.AdamOptimizer(1)\n",
    "train_U_step = optimizer.minimize(negative_log_likelihood, var_list=[U])\n",
    "train_V_step = optimizer.minimize(negative_log_likelihood, var_list=[V])"
   ]
  },
  {
   "cell_type": "code",
   "execution_count": 53,
   "metadata": {},
   "outputs": [],
   "source": [
    "init_op = tf.global_variables_initializer()"
   ]
  },
  {
   "cell_type": "code",
   "execution_count": 54,
   "metadata": {
    "collapsed": true
   },
   "outputs": [],
   "source": [
    "sess = tf.InteractiveSession()\n",
    "sess.run(init_op)"
   ]
  },
  {
   "cell_type": "code",
   "execution_count": 55,
   "metadata": {},
   "outputs": [
    {
     "name": "stdout",
     "output_type": "stream",
     "text": [
      "0 7921.4\n",
      "1 6135.25\n",
      "2 4792.09\n",
      "3 4681.84\n",
      "4 4716.62\n",
      "5 4628.47\n",
      "6 4417.48\n",
      "7 4172.96\n",
      "8 4105.18\n",
      "9 3975.34\n",
      "10 3941.51\n",
      "11 3927.93\n",
      "12 3815.63\n",
      "13 3787.09\n",
      "14 3759.95\n",
      "15 3752.26\n",
      "16 3667.14\n",
      "17 3616.88\n",
      "18 3650.55\n",
      "19 3606.63\n"
     ]
    }
   ],
   "source": [
    "for i in range(20):\n",
    "    sess.run(train_U_step)\n",
    "    sess.run(train_V_step)\n",
    "    print(i, sess.run(negative_log_likelihood))"
   ]
  },
  {
   "cell_type": "markdown",
   "metadata": {},
   "source": [
    "La bonne nouvelle, c'est qu'on obtient une log-likelihood de -3606 en 20 itérations alors que je viens de check, le package R converge au bout de 210 itérations vers une log-likelihood de -4454."
   ]
  },
  {
   "cell_type": "markdown",
   "metadata": {},
   "source": [
    "Reste à savoir si ça généralise bien. (Le package R lui suppose un prior bayésien sur les compétences des gens.)"
   ]
  },
  {
   "cell_type": "code",
   "execution_count": 58,
   "metadata": {},
   "outputs": [
    {
     "data": {
      "text/plain": [
       "array([ 0.88212782, -0.23276009,  1.69328928,  0.92315322, -0.54692751,\n",
       "        0.50770903, -0.28414005,  0.50689954,  1.61787832, -3.19600654,\n",
       "        0.08949868, -0.42689133, -0.01110763,  1.06515741, -0.70196342,\n",
       "       -0.5937373 ,  0.60767239, -0.05709427, -0.74531853, -0.26784363], dtype=float32)"
      ]
     },
     "execution_count": 58,
     "metadata": {},
     "output_type": "execute_result"
    }
   ],
   "source": [
    "sess.run(bias)"
   ]
  }
 ],
 "metadata": {
  "kernelspec": {
   "display_name": "Python 3",
   "language": "python",
   "name": "python3"
  },
  "language_info": {
   "codemirror_mode": {
    "name": "ipython",
    "version": 3
   },
   "file_extension": ".py",
   "mimetype": "text/x-python",
   "name": "python",
   "nbconvert_exporter": "python",
   "pygments_lexer": "ipython3",
   "version": "3.6.1"
  }
 },
 "nbformat": 4,
 "nbformat_minor": 2
}
