{
 "cells": [
  {
   "cell_type": "code",
   "execution_count": 3,
   "metadata": {},
   "outputs": [],
   "source": [
    "import numpy as np\n",
    "from math import exp\n",
    "import random\n",
    "\n",
    "\n",
    "def proba(theta, diff):\n",
    "    return 1 / (1 + exp(-theta.dot(diff)))\n",
    "\n",
    "class Learner:\n",
    "    def __init__(self):\n",
    "        self.theta = np.random.rand(3)\n",
    "\n",
    "    def reply(self, question_id):\n",
    "        diff = diffs[question_id]\n",
    "        proba = proba(self.theta, diff)\n",
    "        outcome = random.random() < proba\n",
    "        if outcome:\n",
    "            # Wait que se passe-t-il si la question a des paramètres négatifs ; faudrait pas baisser le niveau de l'apprenant\n",
    "            # Est-ce qu'on n'augmente que les composantes qui sont plus grandes ?\n",
    "            self.theta += alpha * (diff - self.theta)\n",
    "        else:\n",
    "            # Si ça se trouve, tu apprends moins quand tu réussis que quand tu ne réussis pas ; mais on verra\n",
    "            self.theta += beta * (diff - self.theta)\n",
    "        return outcome\n",
    "\n",
    "class Asker:\n",
    "    def __init__(self, learner):\n",
    "        self.learner = learner\n",
    "        self.est_theta = [0.]\n",
    "        self.history = []\n",
    "    \n",
    "    def update(self):\n",
    "        self.est_theta.append(estimate(self.history))  # Not defined yet\n",
    "\n",
    "    def ask(self, question_id):\n",
    "        outcome = self.learner.reply(question_id)\n",
    "        self.history.append((question_id, outcome))\n",
    "        if outcome:\n",
    "            self.est_theta += alpha * (diff - self.est_theta)\n",
    "        else:\n",
    "            self.est_theta += beta * (diff - self.est_theta)"
   ]
  },
  {
   "cell_type": "code",
   "execution_count": null,
   "metadata": {
    "collapsed": true
   },
   "outputs": [],
   "source": []
  }
 ],
 "metadata": {
  "kernelspec": {
   "display_name": "Python 3",
   "language": "python",
   "name": "python3"
  },
  "language_info": {
   "codemirror_mode": {
    "name": "ipython",
    "version": 3
   },
   "file_extension": ".py",
   "mimetype": "text/x-python",
   "name": "python",
   "nbconvert_exporter": "python",
   "pygments_lexer": "ipython3",
   "version": "3.6.1"
  }
 },
 "nbformat": 4,
 "nbformat_minor": 2
}
