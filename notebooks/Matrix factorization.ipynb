{
 "cells": [
  {
   "cell_type": "code",
   "execution_count": 5,
   "metadata": {
    "collapsed": false
   },
   "outputs": [],
   "source": [
    "import json, numpy\n",
    "from sklearn.decomposition import dict_learning\n",
    "from qmatrix import QMatrix\n",
    "from my_io import Dataset\n",
    "\n",
    "# q = QMatrix()\n",
    "# q.load('qmatrix-cdm')\n",
    "# q.display_qmatrix()"
   ]
  },
  {
   "cell_type": "code",
   "execution_count": 4,
   "metadata": {
    "collapsed": true
   },
   "outputs": [],
   "source": [
    "import os, sys\n",
    "os.chdir('..')"
   ]
  },
  {
   "cell_type": "code",
   "execution_count": 6,
   "metadata": {
    "collapsed": false
   },
   "outputs": [
    {
     "name": "stdout",
     "output_type": "stream",
     "text": [
      "prefix is now castor-troubleshoot/0-0\n"
     ]
    }
   ],
   "source": [
    "dataset = Dataset('sat')"
   ]
  },
  {
   "cell_type": "code",
   "execution_count": 40,
   "metadata": {
    "collapsed": false
   },
   "outputs": [
    {
     "name": "stdout",
     "output_type": "stream",
     "text": [
      "prefix is now new-fraction0\n",
      "prefix is now new-fraction1\n",
      "prefix is now new-fraction2\n",
      "prefix is now new-fraction3\n",
      "prefix is now new-fraction4\n",
      "prefix is now new-fraction0\n"
     ]
    },
    {
     "data": {
      "text/plain": [
       "(2467, 7)"
      ]
     },
     "execution_count": 40,
     "metadata": {},
     "output_type": "execute_result"
    }
   ],
   "source": [
    "dataset = Dataset('banach')\n",
    "dataset.nb_students, dataset.nb_questions"
   ]
  },
  {
   "cell_type": "code",
   "execution_count": 25,
   "metadata": {
    "collapsed": false,
    "scrolled": true
   },
   "outputs": [
    {
     "data": {
      "text/plain": [
       "Counter({'0000000': 50,\n",
       "         '0000010': 8,\n",
       "         '0000100': 2,\n",
       "         '0001000': 9,\n",
       "         '0001010': 2,\n",
       "         '0001100': 3,\n",
       "         '0001101': 1,\n",
       "         '0001110': 1,\n",
       "         '0010000': 11,\n",
       "         '0010001': 1,\n",
       "         '0010100': 3,\n",
       "         '0011000': 15,\n",
       "         '0011010': 6,\n",
       "         '0011100': 4,\n",
       "         '0011111': 1,\n",
       "         '0100000': 2,\n",
       "         '0100100': 1,\n",
       "         '0101000': 4,\n",
       "         '0101100': 1,\n",
       "         '0110000': 2,\n",
       "         '0110101': 1,\n",
       "         '0111000': 9,\n",
       "         '0111001': 2,\n",
       "         '0111010': 2,\n",
       "         '0111011': 1,\n",
       "         '0111100': 1,\n",
       "         '0111101': 6,\n",
       "         '0111111': 2,\n",
       "         '1000000': 40,\n",
       "         '1000010': 2,\n",
       "         '1000100': 13,\n",
       "         '1000110': 2,\n",
       "         '1001000': 33,\n",
       "         '1001001': 1,\n",
       "         '1001010': 8,\n",
       "         '1001100': 35,\n",
       "         '1001101': 1,\n",
       "         '1001110': 9,\n",
       "         '1010000': 20,\n",
       "         '1010001': 1,\n",
       "         '1010010': 3,\n",
       "         '1010100': 18,\n",
       "         '1011000': 207,\n",
       "         '1011001': 10,\n",
       "         '1011010': 137,\n",
       "         '1011011': 13,\n",
       "         '1011100': 98,\n",
       "         '1011101': 11,\n",
       "         '1011110': 60,\n",
       "         '1011111': 13,\n",
       "         '1100000': 10,\n",
       "         '1100001': 1,\n",
       "         '1100100': 5,\n",
       "         '1100101': 2,\n",
       "         '1100110': 3,\n",
       "         '1100111': 1,\n",
       "         '1101000': 23,\n",
       "         '1101001': 1,\n",
       "         '1101010': 5,\n",
       "         '1101011': 1,\n",
       "         '1101100': 16,\n",
       "         '1101101': 7,\n",
       "         '1101110': 11,\n",
       "         '1101111': 5,\n",
       "         '1110000': 13,\n",
       "         '1110001': 3,\n",
       "         '1110010': 2,\n",
       "         '1110100': 10,\n",
       "         '1110101': 20,\n",
       "         '1110110': 4,\n",
       "         '1110111': 4,\n",
       "         '1111000': 136,\n",
       "         '1111001': 37,\n",
       "         '1111010': 158,\n",
       "         '1111011': 74,\n",
       "         '1111100': 132,\n",
       "         '1111101': 273,\n",
       "         '1111110': 91,\n",
       "         '1111111': 533})"
      ]
     },
     "execution_count": 25,
     "metadata": {},
     "output_type": "execute_result"
    }
   ],
   "source": [
    "from collections import Counter\n",
    "Counter(map(lambda line: ''.join(map(str, line)), dataset.data))"
   ]
  },
  {
   "cell_type": "code",
   "execution_count": 7,
   "metadata": {
    "collapsed": true
   },
   "outputs": [],
   "source": [
    "NB_COMPONENTS = 4"
   ]
  },
  {
   "cell_type": "code",
   "execution_count": 8,
   "metadata": {
    "collapsed": false
   },
   "outputs": [],
   "source": [
    "import numpy as np\n",
    "from sklearn.decomposition import SparsePCA\n",
    "\n",
    "M = np.array(dataset.data)\n",
    "pca = SparsePCA(n_components=NB_COMPONENTS)\n",
    "pca.fit(M)\n",
    "VT = pca.components_"
   ]
  },
  {
   "cell_type": "code",
   "execution_count": 9,
   "metadata": {
    "collapsed": false
   },
   "outputs": [
    {
     "data": {
      "text/plain": [
       "(40, 4)"
      ]
     },
     "execution_count": 9,
     "metadata": {},
     "output_type": "execute_result"
    }
   ],
   "source": [
    "VT.T.shape"
   ]
  },
  {
   "cell_type": "code",
   "execution_count": 16,
   "metadata": {
    "collapsed": false
   },
   "outputs": [
    {
     "name": "stdout",
     "output_type": "stream",
     "text": [
      "[2.0, 0.0, 2.0, 0.0]\n",
      "[2.0, 0.0, 0.0, 1.0]\n",
      "[2.0, 0.0, 0.0, 0.0]\n",
      "[2.0, 0.0, 1.0, 0.0]\n",
      "[2.0, 0.0, 1.0, 0.0]\n",
      "[2.0, 0.0, 2.0, 0.0]\n",
      "[2.0, 0.0, 0.0, 1.0]\n",
      "[0.0, 0.0, 0.0, 1.0]\n",
      "[0.0, 0.0, 0.0, 2.0]\n",
      "[2.0, 0.0, 2.0, 0.0]\n",
      "[0.0, 0.0, 0.0, 1.0]\n",
      "[0.0, 0.0, 0.0, 0.0]\n",
      "[0.0, 0.0, 0.0, 2.0]\n",
      "[0.0, 0.0, 0.0, 0.0]\n",
      "[0.0, 0.0, 0.0, 0.0]\n",
      "[0.0, 0.0, 0.0, 0.0]\n",
      "[0.0, 0.0, 0.0, 0.0]\n",
      "[0.0, 0.0, 2.0, 1.0]\n",
      "[0.0, 0.0, 0.0, 2.0]\n",
      "[1.0, 0.0, 2.0, 0.0]\n",
      "[0.0, 0.0, 0.0, 0.0]\n",
      "[1.0, 0.0, 0.0, 1.0]\n",
      "[0.0, 0.0, 0.0, 0.0]\n",
      "[0.0, 0.0, 0.0, 2.0]\n",
      "[0.0, 0.0, 2.0, 1.0]\n",
      "[1.0, 0.0, 2.0, 0.0]\n",
      "[0.0, 0.0, 1.0, 2.0]\n",
      "[0.0, 0.0, 0.0, 0.0]\n",
      "[0.0, 0.0, 1.0, 0.0]\n",
      "[0.0, 0.0, 1.0, 2.0]\n",
      "[0.0, 2.0, 0.0, 0.0]\n",
      "[2.0, 1.0, 2.0, 0.0]\n",
      "[0.0, 2.0, 0.0, 0.0]\n",
      "[0.0, 2.0, 2.0, 0.0]\n",
      "[0.0, 1.0, 0.0, 0.0]\n",
      "[0.0, 2.0, 0.0, 0.0]\n",
      "[0.0, 2.0, 0.0, 1.0]\n",
      "[0.0, 2.0, 1.0, 0.0]\n",
      "[0.0, 2.0, 0.0, 0.0]\n",
      "[0.0, 2.0, 0.0, 0.0]\n"
     ]
    },
    {
     "name": "stderr",
     "output_type": "stream",
     "text": [
      "/Users/jin/code/lib/python2.7/site-packages/sklearn/decomposition/nmf.py:996: DeprecationWarning: Controlling regularization through the sparseness, beta and eta arguments is only available for 'pg' solver, which will be removed in release 0.19. Use another solver with L1 or L2 regularization instead.\n",
      "  \" regularization instead.\", DeprecationWarning)\n"
     ]
    }
   ],
   "source": [
    "from sklearn.decomposition import NMF\n",
    "\n",
    "nmf = NMF(n_components=NB_COMPONENTS, sparseness='components')\n",
    "nmf.fit(M)\n",
    "H = nmf.components_\n",
    "for line in H.T:\n",
    "    print(map(round, line))"
   ]
  },
  {
   "cell_type": "code",
   "execution_count": 20,
   "metadata": {
    "collapsed": false
   },
   "outputs": [
    {
     "name": "stdout",
     "output_type": "stream",
     "text": [
      "SparsePCA\n",
      "1.1.\n",
      "..11\n",
      "..1.\n",
      "1.1.\n",
      "1.1.\n",
      "1.1.\n",
      "..1.\n",
      "..1.\n",
      "..11\n",
      "1.1.\n",
      "11..\n",
      ".1..\n",
      "..11\n",
      "....\n",
      "..1.\n",
      "11.1\n",
      "...1\n",
      "1..1\n",
      "..11\n",
      "1...\n",
      "....\n",
      "..11\n",
      "....\n",
      "...1\n",
      "1..1\n",
      "1..1\n",
      "1..1\n",
      "..11\n",
      "1...\n",
      "...1\n",
      ".1..\n",
      "11..\n",
      ".11.\n",
      "11.1\n",
      ".1..\n",
      ".1..\n",
      ".111\n",
      "11..\n",
      ".1..\n",
      "11..\n",
      "('NMF', 35.42752877231561)\n",
      "1.1.\n",
      "1..1\n",
      "1...\n",
      "1.1.\n",
      "1.1.\n",
      "1.1.\n",
      "1..1\n",
      "1..1\n",
      "1..1\n",
      "1.1.\n",
      "...1\n",
      "....\n",
      "...1\n",
      "....\n",
      "....\n",
      ".1..\n",
      "...1\n",
      ".111\n",
      "...1\n",
      "1.1.\n",
      "....\n",
      "1.11\n",
      "....\n",
      "...1\n",
      "..11\n",
      "111.\n",
      "1111\n",
      "....\n",
      "..1.\n",
      "..11\n",
      ".1..\n",
      "111.\n",
      ".1..\n",
      ".11.\n",
      ".1..\n",
      ".1..\n",
      ".1.1\n",
      ".11.\n",
      ".1..\n",
      ".11.\n"
     ]
    }
   ],
   "source": [
    "print('SparsePCA')\n",
    "for i in range(dataset.nb_questions):\n",
    "    print ''.join('1' if VT.T[i,j] else '.' for j in range(NB_COMPONENTS))\n",
    "print('NMF', nmf.reconstruction_err_)\n",
    "for i in range(dataset.nb_questions):\n",
    "    print ''.join('1' if H.T[i,j] > 0.3 else '.' for j in range(NB_COMPONENTS))\n",
    "# print('Original')\n",
    "# q.display_qmatrix()"
   ]
  },
  {
   "cell_type": "code",
   "execution_count": 29,
   "metadata": {
    "collapsed": false
   },
   "outputs": [
    {
     "data": {
      "text/plain": [
       "[[True, True, True, False],\n",
       " [True, False, True, True],\n",
       " [True, False, False, True],\n",
       " [True, False, True, True],\n",
       " [True, True, True, True],\n",
       " [True, False, True, False],\n",
       " [True, False, False, True],\n",
       " [True, True, False, True],\n",
       " [True, False, False, True],\n",
       " [True, False, True, True],\n",
       " [True, True, True, True],\n",
       " [True, True, True, False],\n",
       " [True, True, True, True],\n",
       " [True, True, False, True],\n",
       " [True, True, True, True],\n",
       " [True, True, True, True],\n",
       " [False, False, True, True],\n",
       " [False, True, True, True],\n",
       " [False, True, False, True],\n",
       " [True, True, True, True],\n",
       " [True, True, False, True],\n",
       " [True, True, True, True],\n",
       " [False, True, False, True],\n",
       " [False, True, False, True],\n",
       " [False, True, True, True],\n",
       " [True, True, True, True],\n",
       " [True, True, True, True],\n",
       " [True, True, True, True],\n",
       " [True, False, True, True],\n",
       " [False, False, True, True],\n",
       " [False, True, False, False],\n",
       " [True, True, True, False],\n",
       " [True, True, False, True],\n",
       " [True, True, True, True],\n",
       " [False, True, False, False],\n",
       " [False, True, False, False],\n",
       " [True, True, True, True],\n",
       " [True, True, True, False],\n",
       " [False, True, False, False],\n",
       " [False, True, True, False]]"
      ]
     },
     "execution_count": 29,
     "metadata": {},
     "output_type": "execute_result"
    }
   ],
   "source": [
    "# q_matrix = np.hstack((np.ones((7, 1)), H.T > 0.5)).tolist()  # Add column of ones\n",
    "q_matrix = (H.T != 0).tolist()\n",
    "# q_matrix = (VT.T != 0).tolist()\n",
    "q_matrix"
   ]
  },
  {
   "cell_type": "code",
   "execution_count": 30,
   "metadata": {
    "collapsed": false
   },
   "outputs": [
    {
     "name": "stdout",
     "output_type": "stream",
     "text": [
      "Prior None\n",
      "prefix is now castor-troubleshoot/0-0\n"
     ]
    }
   ],
   "source": [
    "\"\"\"newQ = []\n",
    "for i in range(20):\n",
    "    newQ.append([int(H.T[i,j] != 0) for j in range(8)])\n",
    "print(newQ)\"\"\"\n",
    "# np.vstack\n",
    "q = QMatrix(NB_COMPONENTS, q_matrix)\n",
    "q.save('qmatrix-sat4')"
   ]
  },
  {
   "cell_type": "code",
   "execution_count": 6,
   "metadata": {
    "collapsed": false
   },
   "outputs": [
    {
     "name": "stdout",
     "output_type": "stream",
     "text": [
      "prefix is now new-fraction0\n",
      "prefix is now new-fraction1\n",
      "prefix is now new-fraction2\n",
      "prefix is now new-fraction3\n",
      "prefix is now new-fraction4\n",
      "prefix is now new-fraction0\n",
      "...1.11. 0.02979505 0.08946052\n",
      "...1..1. 0.01601667 0.04147141\n",
      "...1..1. 2.772346e-11 0.13408707\n",
      ".11.1.1. 0.2235015 0.10991876\n",
      ".1.1..11 0.3007612 0.17230903\n",
      "......1. 0.08970582 0.04372639\n",
      "11....1. 0.02482125 0.19661928\n",
      "......1. 0.4429577 0.18196447\n",
      ".1...... 0.2605348 0.24741055\n",
      ".1..1.11 0.02872189 0.21351503\n",
      ".1..1.1. 0.06562704 0.08178137\n",
      "......11 0.1268996 0.04062558\n",
      ".1.11.1. 0.0129448 0.33467872\n",
      ".1....1. 0.05955208 0.06106003\n",
      "1.....1. 0.03120044 0.1053709\n",
      ".1....1. 0.1069398 0.11124951\n",
      ".1..1.1. 0.03849446 0.13796801\n",
      ".1..111. 0.119356 0.1379775\n",
      "111.1.1. 0.02237506 0.24050069\n",
      ".11.1.1. 0.01254802 0.15720784\n"
     ]
    },
    {
     "data": {
      "text/plain": [
       "56"
      ]
     },
     "execution_count": 6,
     "metadata": {},
     "output_type": "execute_result"
    }
   ],
   "source": [
    "q = QMatrix()\n",
    "q.load('qmatrix-fraction')\n",
    "q.display_qmatrix()\n",
    "sum(map(sum, q.Q))"
   ]
  },
  {
   "cell_type": "code",
   "execution_count": 37,
   "metadata": {
    "collapsed": false
   },
   "outputs": [
    {
     "data": {
      "text/plain": [
       "'new-fraction'"
      ]
     },
     "execution_count": 37,
     "metadata": {},
     "output_type": "execute_result"
    }
   ],
   "source": [
    "from my_io import PREFIX\n",
    "PREFIX"
   ]
  },
  {
   "cell_type": "code",
   "execution_count": 25,
   "metadata": {
    "collapsed": false
   },
   "outputs": [
    {
     "name": "stdout",
     "output_type": "stream",
     "text": [
      "Prior None\n",
      "prefix is now castor-troubleshoot/0-0\n"
     ]
    }
   ],
   "source": [
    "newq = [[1, 0, 0, 0]] * 10 + [[0, 1, 0, 0]] * 10 + [[0, 0, 1, 0]] * 10 + [[0, 0, 0, 1]] * 10\n",
    "q = QMatrix(NB_COMPONENTS, newq)\n",
    "q.save('qmatrix-sat2')"
   ]
  },
  {
   "cell_type": "code",
   "execution_count": null,
   "metadata": {
    "collapsed": true
   },
   "outputs": [],
   "source": []
  }
 ],
 "metadata": {
  "kernelspec": {
   "display_name": "Python 2",
   "language": "python",
   "name": "python2"
  },
  "language_info": {
   "codemirror_mode": {
    "name": "ipython",
    "version": 2
   },
   "file_extension": ".py",
   "mimetype": "text/x-python",
   "name": "python",
   "nbconvert_exporter": "python",
   "pygments_lexer": "ipython2",
   "version": "2.7.10"
  }
 },
 "nbformat": 4,
 "nbformat_minor": 0
}
